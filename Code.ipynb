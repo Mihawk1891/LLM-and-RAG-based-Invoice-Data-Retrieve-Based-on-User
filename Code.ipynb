{
  "cells": [
    {
      "cell_type": "markdown",
      "metadata": {
        "id": "view-in-github",
        "colab_type": "text"
      },
      "source": [
        "<a href=\"https://colab.research.google.com/github/Mihawk1891/PR-LLM-and-RAG-based-Invoice-Data-Retrieve-Based-on-User/blob/main/Code.ipynb\" target=\"_parent\"><img src=\"https://colab.research.google.com/assets/colab-badge.svg\" alt=\"Open In Colab\"/></a>"
      ]
    },
    {
      "cell_type": "code",
      "execution_count": null,
      "metadata": {
        "id": "PmqzlQu6tjHi"
      },
      "outputs": [],
      "source": [
        "import os\n",
        "from langchain_community.document_loaders import PyPDFLoader\n",
        "from langchain_text_splitters import RecursiveCharacterTextSplitter\n",
        "from langchain_google_genai import GoogleGenerativeAIEmbeddings, ChatGoogleGenerativeAI\n",
        "from langchain.chains import create_retrieval_chain\n",
        "from langchain.chains.combine_documents import create_stuff_documents_chain\n",
        "from langchain_core.prompts import ChatPromptTemplate\n",
        "import google.generativeai as genai\n",
        "from langchain_community.vectorstores import FAISS\n",
        "\n"
      ]
    },
    {
      "cell_type": "code",
      "execution_count": null,
      "metadata": {
        "id": "_xEci2iVtjHn"
      },
      "outputs": [],
      "source": [
        "# Set up Google API key\n",
        "os.environ[\"GOOGLE_API_KEY\"] = \"Enter your API\"\n",
        "genai.configure(api_key=os.environ[\"GOOGLE_API_KEY\"])\n",
        "\n"
      ]
    },
    {
      "cell_type": "code",
      "execution_count": null,
      "metadata": {
        "id": "oxKz3Tn0tjHo",
        "outputId": "061bb58d-f1ef-42db-a2bb-f5b9e74a40c2"
      },
      "outputs": [
        {
          "name": "stdout",
          "output_type": "stream",
          "text": [
            "invoice (1).pdf\n",
            "invoice(2).pdf\n"
          ]
        },
        {
          "name": "stderr",
          "output_type": "stream",
          "text": [
            "Ignoring wrong pointing object 6 0 (offset 0)\n",
            "Ignoring wrong pointing object 8 0 (offset 0)\n",
            "Ignoring wrong pointing object 11 0 (offset 0)\n",
            "Ignoring wrong pointing object 13 0 (offset 0)\n"
          ]
        }
      ],
      "source": [
        "# Load Documents using PyPDF LOader\n",
        "files={\"invoice\":[\"invoice (1).pdf\",\"invoice(2).pdf\"]}## Enter relevant path of your files\n",
        "\n",
        "\n",
        "\n",
        "start=0\n",
        "\n",
        "for invoice in files[\"invoice\"]:\n",
        "    print(invoice)\n",
        "    loader = PyPDFLoader(invoice) # change document Here\n",
        "    pages = loader.load()\n",
        "    embeddings = GoogleGenerativeAIEmbeddings(model=\"models/embedding-001\")\n",
        "    db = FAISS.from_documents(pages,embeddings ) # creating Faiss Vector store\n",
        "\n",
        "    if start==0:\n",
        "        db1=db\n",
        "        start+=1\n",
        "    else:\n",
        "        db1.merge_from(db)\n",
        "\n",
        "\n",
        "relevant_invoices = db1.as_retriever()\n",
        "\n",
        "loader = PyPDFLoader(\"invoice_structure_and_terms.pdf\") # change document Here\n",
        "pages = loader.load()\n",
        "db = FAISS.from_documents(pages,embeddings )\n",
        "relevant_knowledge = db.as_retriever()\n",
        "\n"
      ]
    },
    {
      "cell_type": "code",
      "execution_count": null,
      "metadata": {
        "id": "V32Etn_KtjHs"
      },
      "outputs": [],
      "source": [
        "prompti = \"\"\"\n",
        "User Query: {user_input}\n",
        "\n",
        "Relevant Invoice Data:\n",
        "{relevant_invoices}\n",
        "\n",
        "Relevant Invoice Knowledge:\n",
        "{relevant_knowledge}\n",
        "\n",
        "You are a document analysis assistant. Based on the User Query, the relevant invoice data, and the knowledge about invoice structures and terms, please provide a detailed and accurate response.If you need any clarification or additional information, please ask.\n",
        "The Answer Should be points and then subpoints. No paragraph until it is required.\n",
        "\n",
        "Focus solely on the document content to answer the user's question.If there is a user query that Do not reference or utilize any external knowledge or information beyond what is explicitly stated within the document then answer 'Please ask questions on the invoice'\n",
        "Donot tell what the user asked. If the user is vague just provide the answers and also give suggestive questions.\n",
        "\n",
        "\n",
        "You have the Chat History below:\n",
        "\"\"\""
      ]
    },
    {
      "cell_type": "code",
      "execution_count": null,
      "metadata": {
        "id": "A7Iub-g4tjHt"
      },
      "outputs": [],
      "source": [
        "from langchain_core.runnables import RunnablePassthrough\n",
        "from langchain.schema.output_parser import StrOutputParser"
      ]
    },
    {
      "cell_type": "code",
      "execution_count": null,
      "metadata": {
        "id": "zFWEe93QtjHt"
      },
      "outputs": [],
      "source": [
        "# Create prompt template\n",
        "\n",
        "def llm_ans(chat_input,history):\n",
        "    global prompti\n",
        "    prompt2=f\"\"\"{prompti}\\n {history}\"\"\"\n",
        "    prompt = ChatPromptTemplate.from_template(prompt2)\n",
        "\n",
        "    llm = ChatGoogleGenerativeAI(model=\"gemini-1.5-pro\", temperature=0)\n",
        "    chain = (\n",
        "        {\"relevant_invoices\": relevant_invoices,\"relevant_knowledge\":relevant_knowledge ,\"user_input\": RunnablePassthrough()}\n",
        "        | prompt\n",
        "        | llm\n",
        "        | StrOutputParser()\n",
        "        )\n",
        "\n",
        "    return chain.invoke(chat_input)\n",
        "\n"
      ]
    },
    {
      "cell_type": "code",
      "execution_count": null,
      "metadata": {
        "id": "cdzzm_AStjHu",
        "outputId": "7d47b615-cea8-41d3-fb68-4b09b04ee9e2"
      },
      "outputs": [
        {
          "name": "stdout",
          "output_type": "stream",
          "text": [
            "input: \n",
            "Output:  \n",
            "\n",
            "\n",
            "input: Give me the invoice details\n",
            "Output:  \n",
            "\n",
            "\n",
            "input: Give me the invoice details\n",
            "Output: ## Invoice Details:\n",
            "\n",
            "* **Invoice 1:**\n",
            "\n",
            "    * **Invoice Number:** AMD2-3878067\n",
            "    * **Invoice Date:** 06.12.2023\n",
            "    * **Order Number:** 404-9193373-2752348\n",
            "    * **Order Date:** 06.12.2023\n",
            "    * **Seller:** COCOBLU RETAIL LIMITED \n",
            "        * GST Registration No: 24AAJCC8517E1ZR \n",
            "        * PAN No: AAJCC8517E\n",
            "    * **Buyer:** Pravin Misal\n",
            "    * **Items:**\n",
            "        * realme Buds 2 Wired in Ear Earphones with Mic (Blue) | B0CJQZ8BQQ ( B0CJQZ8BQQ ) \n",
            "            * Quantity: 1\n",
            "            * Unit Price: ₹507.63\n",
            "            * Total Amount: ₹599.00\n",
            "    * **Shipping Charges:** ₹33.90\n",
            "    * **Total Amount:** ₹599.00\n",
            "\n",
            "* **Invoice 2:**\n",
            "\n",
            "    * **Invoice Number:** 36258\n",
            "    * **Invoice Date:** Mar 06 2012\n",
            "    * **Seller:** SuperStore\n",
            "    * **Buyer:** Aaron Bergman\n",
            "    * **Items:**\n",
            "        * Global Push Button Manager's Chair, Indigo\n",
            "            * Quantity: 1\n",
            "            * Unit Price: $48.71\n",
            "            * Total Amount: $48.71\n",
            "    * **Subtotal:** $48.71\n",
            "    * **Discount:** $9.74\n",
            "    * **Shipping:** $11.13\n",
            "    * **Total Amount:** $50.10\n",
            "\n",
            "Do you need more details about a specific invoice like billing/shipping address or tax details? \n",
            " \n",
            "\n",
            "\n",
            "input: what is the GST Registration no\n",
            "Output: - GST Registration No: 24AAJCC8517E1ZR \n",
            "\n",
            "Do you need any other information from the invoice like:\n",
            "\n",
            "  - Seller Details\n",
            "  - Buyer Details\n",
            "  - Item details? \n",
            " \n",
            "\n",
            "\n",
            "input: Item details\n",
            "Output: - GST Registration No: 24AAJCC8517E1ZR \n",
            "\n",
            "Do you need any other information from the invoice like:\n",
            "\n",
            "  - Seller Details\n",
            "  - Buyer Details\n",
            "  - Item details? \n",
            " \n",
            "\n",
            "\n"
          ]
        }
      ],
      "source": [
        "chathistory=\"\"\n",
        "\n",
        "while True:\n",
        "    user=input()\n",
        "    ans=llm_ans(user,chathistory)\n",
        "    chathistory+=f\"HumanMessage:{user}\\n\"\n",
        "    chathistory+=f\"AIMessage:{ans}\\n\\n\"\n",
        "\n",
        "    print(\"input:\",user)\n",
        "    print(\"Output:\",ans,\"\\n\\n\")\n",
        "\n"
      ]
    },
    {
      "cell_type": "code",
      "execution_count": null,
      "metadata": {
        "id": "iRZtd9NBtjHu"
      },
      "outputs": [],
      "source": [
        "print(chathistory)"
      ]
    }
  ],
  "metadata": {
    "kernelspec": {
      "display_name": "Python 3",
      "language": "python",
      "name": "python3"
    },
    "language_info": {
      "codemirror_mode": {
        "name": "ipython",
        "version": 3
      },
      "file_extension": ".py",
      "mimetype": "text/x-python",
      "name": "python",
      "nbconvert_exporter": "python",
      "pygments_lexer": "ipython3",
      "version": "3.11.9"
    },
    "colab": {
      "provenance": [],
      "include_colab_link": true
    }
  },
  "nbformat": 4,
  "nbformat_minor": 0
}